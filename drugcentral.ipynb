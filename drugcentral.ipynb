{
 "cells": [
  {
   "cell_type": "code",
   "execution_count": 1,
   "metadata": {
    "collapsed": true
   },
   "outputs": [],
   "source": [
    "import pandas"
   ]
  },
  {
   "cell_type": "markdown",
   "metadata": {},
   "source": [
    "## Read DO Slim - the disease subset used for rephetio"
   ]
  },
  {
   "cell_type": "code",
   "execution_count": 2,
   "metadata": {
    "collapsed": false
   },
   "outputs": [
    {
     "data": {
      "text/html": [
       "<div>\n",
       "<table border=\"1\" class=\"dataframe\">\n",
       "  <thead>\n",
       "    <tr style=\"text-align: right;\">\n",
       "      <th></th>\n",
       "      <th>slim_id</th>\n",
       "      <th>slim_name</th>\n",
       "      <th>subsumed_id</th>\n",
       "    </tr>\n",
       "  </thead>\n",
       "  <tbody>\n",
       "    <tr>\n",
       "      <th>0</th>\n",
       "      <td>DOID:0050156</td>\n",
       "      <td>idiopathic pulmonary fibrosis</td>\n",
       "      <td>DOID:0050156</td>\n",
       "    </tr>\n",
       "    <tr>\n",
       "      <th>1</th>\n",
       "      <td>DOID:0050425</td>\n",
       "      <td>restless legs syndrome</td>\n",
       "      <td>DOID:0050425</td>\n",
       "    </tr>\n",
       "  </tbody>\n",
       "</table>\n",
       "</div>"
      ],
      "text/plain": [
       "        slim_id                      slim_name   subsumed_id\n",
       "0  DOID:0050156  idiopathic pulmonary fibrosis  DOID:0050156\n",
       "1  DOID:0050425         restless legs syndrome  DOID:0050425"
      ]
     },
     "execution_count": 2,
     "metadata": {},
     "output_type": "execute_result"
    }
   ],
   "source": [
    "url = 'https://github.com/dhimmel/disease-ontology/raw/5cb93c38568536222b0a14fbcb7fb644a348931d/data/slim-terms-prop.tsv'\n",
    "do_slim = pandas.read_table(url)\n",
    "do_slim = do_slim[['slim_id', 'slim_name', 'subsumed_id']]\n",
    "do_slim.head(2)"
   ]
  },
  {
   "cell_type": "markdown",
   "metadata": {},
   "source": [
    "## Read drug targets and use chembl_ids to map to drugbank"
   ]
  },
  {
   "cell_type": "code",
   "execution_count": 3,
   "metadata": {
    "collapsed": false
   },
   "outputs": [
    {
     "data": {
      "text/html": [
       "<div>\n",
       "<table border=\"1\" class=\"dataframe\">\n",
       "  <thead>\n",
       "    <tr style=\"text-align: right;\">\n",
       "      <th></th>\n",
       "      <th>DRUG_ID</th>\n",
       "      <th>chembl_id</th>\n",
       "      <th>DRUG_NAME</th>\n",
       "      <th>TARGET_NAME</th>\n",
       "      <th>TARGET_FAMILY</th>\n",
       "      <th>UNIPROT</th>\n",
       "      <th>GENE</th>\n",
       "      <th>SWISSPROT</th>\n",
       "      <th>ACTION_TYPE</th>\n",
       "      <th>SOURCE</th>\n",
       "      <th>REFERENCE</th>\n",
       "    </tr>\n",
       "  </thead>\n",
       "  <tbody>\n",
       "    <tr>\n",
       "      <th>0</th>\n",
       "      <td>5080</td>\n",
       "      <td>CHEMBL3039514</td>\n",
       "      <td>elbasvir</td>\n",
       "      <td>Genome polyprotein</td>\n",
       "      <td>Polyprotein</td>\n",
       "      <td>P27958</td>\n",
       "      <td>NaN</td>\n",
       "      <td>POLG_HCVH</td>\n",
       "      <td>INHIBITOR</td>\n",
       "      <td>DRUG LABEL</td>\n",
       "      <td>http://www.accessdata.fda.gov/drugsatfda_docs/...</td>\n",
       "    </tr>\n",
       "    <tr>\n",
       "      <th>1</th>\n",
       "      <td>5080</td>\n",
       "      <td>CHEMBL3039514</td>\n",
       "      <td>elbasvir</td>\n",
       "      <td>Genome polyprotein</td>\n",
       "      <td>Polyprotein</td>\n",
       "      <td>P26663</td>\n",
       "      <td>NaN</td>\n",
       "      <td>POLG_HCVBK</td>\n",
       "      <td>INHIBITOR</td>\n",
       "      <td>DRUG LABEL</td>\n",
       "      <td>http://www.accessdata.fda.gov/drugsatfda_docs/...</td>\n",
       "    </tr>\n",
       "  </tbody>\n",
       "</table>\n",
       "</div>"
      ],
      "text/plain": [
       "   DRUG_ID      chembl_id DRUG_NAME         TARGET_NAME TARGET_FAMILY UNIPROT  \\\n",
       "0     5080  CHEMBL3039514  elbasvir  Genome polyprotein   Polyprotein  P27958   \n",
       "1     5080  CHEMBL3039514  elbasvir  Genome polyprotein   Polyprotein  P26663   \n",
       "\n",
       "  GENE   SWISSPROT ACTION_TYPE      SOURCE  \\\n",
       "0  NaN   POLG_HCVH   INHIBITOR  DRUG LABEL   \n",
       "1  NaN  POLG_HCVBK   INHIBITOR  DRUG LABEL   \n",
       "\n",
       "                                           REFERENCE  \n",
       "0  http://www.accessdata.fda.gov/drugsatfda_docs/...  \n",
       "1  http://www.accessdata.fda.gov/drugsatfda_docs/...  "
      ]
     },
     "execution_count": 3,
     "metadata": {},
     "output_type": "execute_result"
    }
   ],
   "source": [
    "path = 'drugtarget/drug_target.tsv'\n",
    "target_df = pandas.read_table(path)\n",
    "target_df = target_df.rename(columns={'CHEMBL_ID': 'chembl_id'})\n",
    "target_df.head(2)"
   ]
  },
  {
   "cell_type": "code",
   "execution_count": 4,
   "metadata": {
    "collapsed": false
   },
   "outputs": [
    {
     "data": {
      "text/html": [
       "<div>\n",
       "<table border=\"1\" class=\"dataframe\">\n",
       "  <thead>\n",
       "    <tr style=\"text-align: right;\">\n",
       "      <th></th>\n",
       "      <th>DRUG_ID</th>\n",
       "      <th>chembl_id</th>\n",
       "    </tr>\n",
       "  </thead>\n",
       "  <tbody>\n",
       "    <tr>\n",
       "      <th>2354</th>\n",
       "      <td>4982</td>\n",
       "      <td>CHEMBL1743087</td>\n",
       "    </tr>\n",
       "    <tr>\n",
       "      <th>2355</th>\n",
       "      <td>736</td>\n",
       "      <td>CHEMBL2105842</td>\n",
       "    </tr>\n",
       "  </tbody>\n",
       "</table>\n",
       "</div>"
      ],
      "text/plain": [
       "      DRUG_ID      chembl_id\n",
       "2354     4982  CHEMBL1743087\n",
       "2355      736  CHEMBL2105842"
      ]
     },
     "execution_count": 4,
     "metadata": {},
     "output_type": "execute_result"
    }
   ],
   "source": [
    "chembl_map_df = target_df[['DRUG_ID', 'chembl_id']].dropna().drop_duplicates().reindex()\n",
    "chembl_map_df.tail(2)"
   ]
  },
  {
   "cell_type": "code",
   "execution_count": 5,
   "metadata": {
    "collapsed": false
   },
   "outputs": [
    {
     "data": {
      "text/html": [
       "<div>\n",
       "<table border=\"1\" class=\"dataframe\">\n",
       "  <thead>\n",
       "    <tr style=\"text-align: right;\">\n",
       "      <th></th>\n",
       "      <th>drugbank_id</th>\n",
       "      <th>DRUG_ID</th>\n",
       "    </tr>\n",
       "  </thead>\n",
       "  <tbody>\n",
       "    <tr>\n",
       "      <th>0</th>\n",
       "      <td>DB00014</td>\n",
       "      <td>1327</td>\n",
       "    </tr>\n",
       "    <tr>\n",
       "      <th>1</th>\n",
       "      <td>DB00035</td>\n",
       "      <td>817</td>\n",
       "    </tr>\n",
       "  </tbody>\n",
       "</table>\n",
       "</div>"
      ],
      "text/plain": [
       "  drugbank_id  DRUG_ID\n",
       "0     DB00014     1327\n",
       "1     DB00035      817"
      ]
     },
     "execution_count": 5,
     "metadata": {},
     "output_type": "execute_result"
    }
   ],
   "source": [
    "path = 'https://github.com/dhimmel/drugbank/raw/55587651ee9417e4621707dac559d84c984cf5fa/data/mapping/chembl.tsv'\n",
    "drugbank_map_df = pandas.read_table(path).merge(chembl_map_df)[['drugbank_id', 'DRUG_ID']].drop_duplicates()\n",
    "drugbank_map_df.head(2)"
   ]
  },
  {
   "cell_type": "code",
   "execution_count": 6,
   "metadata": {
    "collapsed": false
   },
   "outputs": [
    {
     "data": {
      "text/html": [
       "<div>\n",
       "<table border=\"1\" class=\"dataframe\">\n",
       "  <thead>\n",
       "    <tr style=\"text-align: right;\">\n",
       "      <th></th>\n",
       "      <th>drugbank_id</th>\n",
       "      <th>DRUG_ID</th>\n",
       "      <th>chembl_id</th>\n",
       "      <th>DRUG_NAME</th>\n",
       "      <th>TARGET_NAME</th>\n",
       "      <th>TARGET_FAMILY</th>\n",
       "      <th>UNIPROT</th>\n",
       "      <th>GENE</th>\n",
       "      <th>SWISSPROT</th>\n",
       "      <th>ACTION_TYPE</th>\n",
       "      <th>SOURCE</th>\n",
       "      <th>REFERENCE</th>\n",
       "    </tr>\n",
       "  </thead>\n",
       "  <tbody>\n",
       "    <tr>\n",
       "      <th>0</th>\n",
       "      <td>DB00014</td>\n",
       "      <td>1327</td>\n",
       "      <td>CHEMBL1200501</td>\n",
       "      <td>goserelin</td>\n",
       "      <td>Gonadotropin-releasing hormone receptor</td>\n",
       "      <td>GPCR</td>\n",
       "      <td>P30968</td>\n",
       "      <td>GNRHR</td>\n",
       "      <td>GNRHR_HUMAN</td>\n",
       "      <td>AGONIST</td>\n",
       "      <td>CHEMBL</td>\n",
       "      <td>https://www.ebi.ac.uk/chembl/compound/inspect/...</td>\n",
       "    </tr>\n",
       "    <tr>\n",
       "      <th>1</th>\n",
       "      <td>DB00035</td>\n",
       "      <td>817</td>\n",
       "      <td>CHEMBL376685</td>\n",
       "      <td>desmopressin</td>\n",
       "      <td>Vasopressin V2 receptor</td>\n",
       "      <td>GPCR</td>\n",
       "      <td>P30518</td>\n",
       "      <td>AVPR2</td>\n",
       "      <td>V2R_HUMAN</td>\n",
       "      <td>AGONIST</td>\n",
       "      <td>SCIENTIFIC LITERATURE</td>\n",
       "      <td>http://www.ncbi.nlm.nih.gov/pubmed/9792651</td>\n",
       "    </tr>\n",
       "  </tbody>\n",
       "</table>\n",
       "</div>"
      ],
      "text/plain": [
       "  drugbank_id  DRUG_ID      chembl_id     DRUG_NAME  \\\n",
       "0     DB00014     1327  CHEMBL1200501     goserelin   \n",
       "1     DB00035      817   CHEMBL376685  desmopressin   \n",
       "\n",
       "                               TARGET_NAME TARGET_FAMILY UNIPROT   GENE  \\\n",
       "0  Gonadotropin-releasing hormone receptor          GPCR  P30968  GNRHR   \n",
       "1                  Vasopressin V2 receptor          GPCR  P30518  AVPR2   \n",
       "\n",
       "     SWISSPROT ACTION_TYPE                 SOURCE  \\\n",
       "0  GNRHR_HUMAN     AGONIST                 CHEMBL   \n",
       "1    V2R_HUMAN     AGONIST  SCIENTIFIC LITERATURE   \n",
       "\n",
       "                                           REFERENCE  \n",
       "0  https://www.ebi.ac.uk/chembl/compound/inspect/...  \n",
       "1         http://www.ncbi.nlm.nih.gov/pubmed/9792651  "
      ]
     },
     "execution_count": 6,
     "metadata": {},
     "output_type": "execute_result"
    }
   ],
   "source": [
    "target_df = drugbank_map_df.merge(target_df)\n",
    "target_df.to_csv('rephetio/targets.tsv', sep='\\t', index=False)\n",
    "target_df.head(2)"
   ]
  },
  {
   "cell_type": "markdown",
   "metadata": {},
   "source": [
    "## Read and process DrugCentral Indications"
   ]
  },
  {
   "cell_type": "code",
   "execution_count": 7,
   "metadata": {
    "collapsed": false
   },
   "outputs": [
    {
     "data": {
      "text/html": [
       "<div>\n",
       "<table border=\"1\" class=\"dataframe\">\n",
       "  <thead>\n",
       "    <tr style=\"text-align: right;\">\n",
       "      <th></th>\n",
       "      <th>DRUG_ID</th>\n",
       "      <th>DRUG_NAME</th>\n",
       "      <th>INDICATION_FDB</th>\n",
       "      <th>UMLS_CUI</th>\n",
       "      <th>SNOMEDCT_CUI</th>\n",
       "      <th>subsumed_id</th>\n",
       "    </tr>\n",
       "  </thead>\n",
       "  <tbody>\n",
       "    <tr>\n",
       "      <th>0</th>\n",
       "      <td>1593</td>\n",
       "      <td>lofexidine</td>\n",
       "      <td>Opioid Withdrawal Symptoms</td>\n",
       "      <td>C0029104</td>\n",
       "      <td>87132004</td>\n",
       "      <td>NaN</td>\n",
       "    </tr>\n",
       "    <tr>\n",
       "      <th>1</th>\n",
       "      <td>4171</td>\n",
       "      <td>eribulin</td>\n",
       "      <td>Liposarcoma</td>\n",
       "      <td>C0023827</td>\n",
       "      <td>254829001</td>\n",
       "      <td>DOID:3382</td>\n",
       "    </tr>\n",
       "  </tbody>\n",
       "</table>\n",
       "</div>"
      ],
      "text/plain": [
       "   DRUG_ID   DRUG_NAME              INDICATION_FDB  UMLS_CUI SNOMEDCT_CUI  \\\n",
       "0     1593  lofexidine  Opioid Withdrawal Symptoms  C0029104     87132004   \n",
       "1     4171    eribulin                 Liposarcoma  C0023827    254829001   \n",
       "\n",
       "  subsumed_id  \n",
       "0         NaN  \n",
       "1   DOID:3382  "
      ]
     },
     "execution_count": 7,
     "metadata": {},
     "output_type": "execute_result"
    }
   ],
   "source": [
    "path = 'drugtarget/drug_indication.tsv'\n",
    "indication_df = pandas.read_table(path, dtype={'SNOMEDCT_CUI': str})\n",
    "indication_df = indication_df.rename(columns={'DOID': 'subsumed_id'})\n",
    "indication_df.head(2)"
   ]
  },
  {
   "cell_type": "code",
   "execution_count": 8,
   "metadata": {
    "collapsed": false
   },
   "outputs": [
    {
     "data": {
      "text/plain": [
       "False    597\n",
       "True     152\n",
       "dtype: int64"
      ]
     },
     "execution_count": 8,
     "metadata": {},
     "output_type": "execute_result"
    }
   ],
   "source": [
    "mapped_indication_df = do_slim.merge(indication_df)[['slim_id', 'slim_name', 'INDICATION_FDB', 'DRUG_ID', 'DRUG_NAME']]\n",
    "mapped_indication_df = mapped_indication_df.merge(drugbank_map_df)\n",
    "mapped_indication_df = mapped_indication_df.sort_values(['slim_name', 'INDICATION_FDB', 'DRUG_NAME'])\n",
    "mapped_indication_df.to_csv('rephetio/indications.tsv', sep='\\t', index=False)\n",
    "mapped_indication_df.duplicated(['slim_id', 'drugbank_id']).value_counts()"
   ]
  },
  {
   "cell_type": "markdown",
   "metadata": {},
   "source": [
    "## Pharmacologic class"
   ]
  },
  {
   "cell_type": "code",
   "execution_count": 9,
   "metadata": {
    "collapsed": false
   },
   "outputs": [
    {
     "data": {
      "text/html": [
       "<div>\n",
       "<table border=\"1\" class=\"dataframe\">\n",
       "  <thead>\n",
       "    <tr style=\"text-align: right;\">\n",
       "      <th></th>\n",
       "      <th>drugbank_id</th>\n",
       "      <th>DRUG_ID</th>\n",
       "      <th>DRUG_NAME</th>\n",
       "      <th>TYPE</th>\n",
       "      <th>CLASS_SOURCE_ID</th>\n",
       "      <th>CLASS</th>\n",
       "      <th>SOURCE</th>\n",
       "    </tr>\n",
       "  </thead>\n",
       "  <tbody>\n",
       "    <tr>\n",
       "      <th>0</th>\n",
       "      <td>DB00014</td>\n",
       "      <td>1327</td>\n",
       "      <td>goserelin</td>\n",
       "      <td>EPC</td>\n",
       "      <td>N0000175655</td>\n",
       "      <td>Gonadotropin Releasing Hormone Receptor Agonist</td>\n",
       "      <td>FDA</td>\n",
       "    </tr>\n",
       "    <tr>\n",
       "      <th>1</th>\n",
       "      <td>DB00014</td>\n",
       "      <td>1327</td>\n",
       "      <td>goserelin</td>\n",
       "      <td>MoA</td>\n",
       "      <td>N0000175654</td>\n",
       "      <td>Gonadotropin Releasing Hormone Receptor Agonists</td>\n",
       "      <td>FDA</td>\n",
       "    </tr>\n",
       "  </tbody>\n",
       "</table>\n",
       "</div>"
      ],
      "text/plain": [
       "  drugbank_id  DRUG_ID  DRUG_NAME TYPE CLASS_SOURCE_ID  \\\n",
       "0     DB00014     1327  goserelin  EPC     N0000175655   \n",
       "1     DB00014     1327  goserelin  MoA     N0000175654   \n",
       "\n",
       "                                              CLASS SOURCE  \n",
       "0   Gonadotropin Releasing Hormone Receptor Agonist    FDA  \n",
       "1  Gonadotropin Releasing Hormone Receptor Agonists    FDA  "
      ]
     },
     "execution_count": 9,
     "metadata": {},
     "output_type": "execute_result"
    }
   ],
   "source": [
    "path = 'drugtarget/pharm_class.tsv'\n",
    "class_df = pandas.read_table(path)\n",
    "class_df = drugbank_map_df.merge(class_df)\n",
    "class_df = class_df.drop_duplicates(['drugbank_id', 'TYPE', 'CLASS_SOURCE_ID'])\n",
    "class_df.head(2)"
   ]
  },
  {
   "cell_type": "code",
   "execution_count": 10,
   "metadata": {
    "collapsed": false
   },
   "outputs": [
    {
     "data": {
      "text/plain": [
       "PA                     5768\n",
       "has role               2066\n",
       "EPC                     813\n",
       "MoA                     483\n",
       "Chemical/Ingredient     269\n",
       "PE                      158\n",
       "Name: TYPE, dtype: int64"
      ]
     },
     "execution_count": 10,
     "metadata": {},
     "output_type": "execute_result"
    }
   ],
   "source": [
    "class_df.TYPE.value_counts()"
   ]
  },
  {
   "cell_type": "code",
   "execution_count": 11,
   "metadata": {
    "collapsed": false
   },
   "outputs": [
    {
     "data": {
      "text/plain": [
       "MeSH     5768\n",
       "CHEBI    2066\n",
       "FDA      1723\n",
       "Name: SOURCE, dtype: int64"
      ]
     },
     "execution_count": 11,
     "metadata": {},
     "output_type": "execute_result"
    }
   ],
   "source": [
    "class_df.SOURCE.value_counts()"
   ]
  },
  {
   "cell_type": "code",
   "execution_count": 12,
   "metadata": {
    "collapsed": true
   },
   "outputs": [],
   "source": [
    "class_df.to_csv('rephetio/classes.tsv', sep='\\t', index=False)"
   ]
  }
 ],
 "metadata": {
  "kernelspec": {
   "display_name": "Python 3",
   "language": "python",
   "name": "python3"
  },
  "language_info": {
   "codemirror_mode": {
    "name": "ipython",
    "version": 3
   },
   "file_extension": ".py",
   "mimetype": "text/x-python",
   "name": "python",
   "nbconvert_exporter": "python",
   "pygments_lexer": "ipython3",
   "version": "3.5.1"
  }
 },
 "nbformat": 4,
 "nbformat_minor": 0
}
